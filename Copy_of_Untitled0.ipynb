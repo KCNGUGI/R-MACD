{
  "nbformat": 4,
  "nbformat_minor": 0,
  "metadata": {
    "colab": {
      "name": "Copy of Untitled0.ipynb",
      "provenance": [],
      "collapsed_sections": []
    },
    "kernelspec": {
      "name": "python3",
      "display_name": "Python 3"
    },
    "language_info": {
      "name": "python"
    }
  },
  "cells": [
    {
      "cell_type": "code",
      "metadata": {
        "id": "SZmv0petT2uZ"
      },
      "source": [
        ""
      ],
      "execution_count": null,
      "outputs": []
    },
    {
      "cell_type": "markdown",
      "metadata": {
        "id": "KHXr6n9vVvh0"
      },
      "source": [
        "# Python data types;integers and floats."
      ]
    },
    {
      "cell_type": "markdown",
      "metadata": {
        "id": "JGGijHlnV7xj"
      },
      "source": [
        ""
      ]
    },
    {
      "cell_type": "markdown",
      "metadata": {
        "id": "QTsZZAdVT4eR"
      },
      "source": [
        "# Here am dealing with python data types integer and Foat\n",
        "\n"
      ]
    },
    {
      "cell_type": "markdown",
      "metadata": {
        "id": "X4K93fnhUZQQ"
      },
      "source": [
        "# integer- These are whole numbers, they could be negative or positive numbers.\n"
      ]
    },
    {
      "cell_type": "code",
      "metadata": {
        "colab": {
          "base_uri": "https://localhost:8080/"
        },
        "id": "eQC2UO2YUhTw",
        "outputId": "9a4128df-ef53-4cbd-fa91-9a34b1908387"
      },
      "source": [
        "num = 4\n",
        "\n",
        "\n",
        "print(type(num))"
      ],
      "execution_count": null,
      "outputs": [
        {
          "output_type": "stream",
          "text": [
            "<class 'int'>\n"
          ],
          "name": "stdout"
        }
      ]
    },
    {
      "cell_type": "code",
      "metadata": {
        "colab": {
          "base_uri": "https://localhost:8080/"
        },
        "id": "-wBbWPDgWBBc",
        "outputId": "24433725-7934-4467-f83b-902a6c08e47a"
      },
      "source": [
        "num = 4.432\n",
        "\n",
        "\n",
        "print(type(num))"
      ],
      "execution_count": null,
      "outputs": [
        {
          "output_type": "stream",
          "text": [
            "<class 'float'>\n"
          ],
          "name": "stdout"
        }
      ]
    },
    {
      "cell_type": "markdown",
      "metadata": {
        "id": "n2ioiDXLVj9S"
      },
      "source": [
        ""
      ]
    },
    {
      "cell_type": "markdown",
      "metadata": {
        "id": "9OFRspvbV4rn"
      },
      "source": [
        "# float - these numbers reprsent real numbers and are written with a decimal point dividing the integer and flactional part\n",
        "\n"
      ]
    }
  ]
}